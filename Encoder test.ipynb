{
 "cells": [
  {
   "cell_type": "markdown",
   "id": "585647be-4f15-422e-917f-56224d053009",
   "metadata": {},
   "source": [
    "# Conv Mode Test"
   ]
  },
  {
   "cell_type": "code",
   "execution_count": 1,
   "id": "03003c18-2277-4f0f-bbe4-e0709e4147b6",
   "metadata": {},
   "outputs": [],
   "source": [
    "import torch\n",
    "import torch.nn as nn\n",
    "import numpy as np\n",
    "from models.eeg_AE import eeg_encoder as Encoder\n",
    "\n",
    "from models.eeg_AE import eeg_decoder as Decoder"
   ]
  },
  {
   "cell_type": "code",
   "execution_count": 2,
   "id": "991a7b9d-271c-469e-803b-78d6661742e9",
   "metadata": {},
   "outputs": [
    {
     "name": "stdout",
     "output_type": "stream",
     "text": [
      "ModuleList(\n",
      "  (0): Conv1dLayer(\n",
      "    (conv): Conv1d(64, 64, kernel_size=(1,), stride=(1,), bias=False)\n",
      "  )\n",
      "  (1): Conv1dLayer(\n",
      "    (conv): Conv1d(128, 128, kernel_size=(1,), stride=(1,), bias=False)\n",
      "  )\n",
      "  (2): Conv1dLayer(\n",
      "    (conv): Conv1d(256, 256, kernel_size=(1,), stride=(1,), bias=False)\n",
      "  )\n",
      "  (3): Conv1dLayer(\n",
      "    (conv): Conv1d(512, 512, kernel_size=(1,), stride=(1,), bias=False)\n",
      "  )\n",
      "  (4): Conv1dLayer(\n",
      "    (conv): Conv1d(1024, 1024, kernel_size=(1,), stride=(1,), bias=False)\n",
      "  )\n",
      ")\n",
      "None\n",
      "inputs :  torch.Size([1, 440, 128])\n",
      "After In Layer : torch.Size([1, 64, 128])\n",
      "BLOCK 0 after block0 : torch.Size([1, 64, 128])\n",
      "BLOCK 0 after block1 : torch.Size([1, 64, 128])\n",
      "BLOCK 0 after attn : torch.Size([1, 64, 128])\n",
      "BLOCK 0 after down block : torch.Size([1, 64, 64])\n",
      "BLOCK 1 after block0 : torch.Size([1, 128, 64])\n",
      "BLOCK 1 after block1 : torch.Size([1, 128, 64])\n",
      "BLOCK 1 after attn : torch.Size([1, 128, 64])\n",
      "BLOCK 1 after down block : torch.Size([1, 128, 16])\n",
      "BLOCK 2 after block0 : torch.Size([1, 256, 16])\n",
      "BLOCK 2 after block1 : torch.Size([1, 256, 16])\n",
      "BLOCK 2 after attn : torch.Size([1, 256, 16])\n",
      "BLOCK 2 after down block : torch.Size([1, 256, 4])\n",
      "BLOCK 3 after block0 : torch.Size([1, 512, 4])\n",
      "BLOCK 3 after block1 : torch.Size([1, 512, 4])\n",
      "BLOCK 3 after attn : torch.Size([1, 512, 4])\n",
      "BLOCK 3 after down block : torch.Size([1, 512, 1])\n",
      "BLOCK 4 after block0 : torch.Size([1, 1024, 1])\n",
      "BLOCK 4 after block1 : torch.Size([1, 1024, 1])\n",
      "BLOCK 4 after attn : torch.Size([1, 1024, 1])\n",
      "BLOCK 4 after down block : torch.Size([1, 1024, 1])\n",
      "After Out Layer : torch.Size([1, 768, 1])\n"
     ]
    }
   ],
   "source": [
    "test =torch.randn(1, 440, 128)\n",
    "en = Encoder(in_seq              = 440,\n",
    "            in_channels          = 128,\n",
    "            out_seq             = 768,\n",
    "            dims               = [64, 128, 256, 512, 1024],\n",
    "            shortcut           = True,\n",
    "            dropout           = 0.5,\n",
    "            groups              = 32,\n",
    "            layer_mode          = 'conv',\n",
    "            block_mode          = 'res',\n",
    "            down_mode           = 'max',\n",
    "            pos_mode           = 'trunc',\n",
    "            n_layer           = 2,\n",
    "            n_head              = 64,\n",
    "            dff_factor        = 2,\n",
    "            stride            = 4,\n",
    "            skip_mode          = \"conv\")\n",
    "\n",
    "out, skips = en(test)"
   ]
  },
  {
   "cell_type": "code",
   "execution_count": 3,
   "id": "4edee672-81b1-4bc2-9e1f-17201844b2f2",
   "metadata": {},
   "outputs": [
    {
     "data": {
      "text/plain": [
       "torch.Size([1, 768, 1])"
      ]
     },
     "execution_count": 3,
     "metadata": {},
     "output_type": "execute_result"
    }
   ],
   "source": [
    "out.shape"
   ]
  },
  {
   "cell_type": "code",
   "execution_count": 4,
   "id": "187ec2e1-3c4f-443d-bf2e-8bd4280af42a",
   "metadata": {},
   "outputs": [
    {
     "name": "stdout",
     "output_type": "stream",
     "text": [
      "torch.Size([1, 1024, 1])\n",
      "torch.Size([1, 512, 4])\n",
      "torch.Size([1, 256, 16])\n",
      "torch.Size([1, 128, 64])\n",
      "torch.Size([1, 64, 128])\n"
     ]
    }
   ],
   "source": [
    "for i in skips:\n",
    "    print(i.shape)"
   ]
  },
  {
   "cell_type": "code",
   "execution_count": 5,
   "id": "3ebb888c-6398-4b30-9335-db3fb58538ab",
   "metadata": {},
   "outputs": [
    {
     "name": "stdout",
     "output_type": "stream",
     "text": [
      "inputs :  torch.Size([1, 768, 1])\n",
      "After In Layer : torch.Size([1, 1024, 1])\n",
      "BLOCK 0 after concat : torch.Size([1, 2048, 1])\n",
      "BLOCK 0 after block0 : torch.Size([1, 1024, 1])\n",
      "BLOCK 0 after block1 : torch.Size([1, 1024, 1])\n",
      "BLOCK 0 after attn : torch.Size([1, 1024, 1])\n",
      "BLOCK 0 after up block : torch.Size([1, 512, 4])\n",
      "BLOCK 1 after concat : torch.Size([1, 1024, 4])\n",
      "BLOCK 1 after block0 : torch.Size([1, 512, 4])\n",
      "BLOCK 1 after block1 : torch.Size([1, 512, 4])\n",
      "BLOCK 1 after attn : torch.Size([1, 512, 4])\n",
      "BLOCK 1 after up block : torch.Size([1, 256, 16])\n",
      "BLOCK 2 after concat : torch.Size([1, 512, 16])\n",
      "BLOCK 2 after block0 : torch.Size([1, 256, 16])\n",
      "BLOCK 2 after block1 : torch.Size([1, 256, 16])\n",
      "BLOCK 2 after attn : torch.Size([1, 256, 16])\n",
      "BLOCK 2 after up block : torch.Size([1, 128, 64])\n",
      "BLOCK 3 after concat : torch.Size([1, 256, 64])\n",
      "BLOCK 3 after block0 : torch.Size([1, 128, 64])\n",
      "BLOCK 3 after block1 : torch.Size([1, 128, 64])\n",
      "BLOCK 3 after attn : torch.Size([1, 128, 64])\n",
      "BLOCK 3 after up block : torch.Size([1, 64, 128])\n",
      "BLOCK 4 after concat : torch.Size([1, 128, 128])\n",
      "BLOCK 4 after block0 : torch.Size([1, 64, 128])\n",
      "BLOCK 4 after block1 : torch.Size([1, 64, 128])\n",
      "BLOCK 4 after attn : torch.Size([1, 64, 128])\n",
      "BLOCK 4 after up block : torch.Size([1, 64, 128])\n",
      "After Out Layer : torch.Size([1, 440, 128])\n"
     ]
    }
   ],
   "source": [
    "de = Decoder(in_seq              = 768,\n",
    "            in_channels          = 1,\n",
    "            out_seq             = 440,\n",
    "            dims               = [64, 128, 256, 512, 1024],\n",
    "            shortcut           = True,\n",
    "            dropout           = 0.5,\n",
    "            groups              = 32,\n",
    "            layer_mode          = 'conv',\n",
    "            block_mode          = 'res',\n",
    "            up_mode           = 'trans',\n",
    "            pos_mode           = 'trunc',\n",
    "            n_layer           = 2,\n",
    "            n_head              = 64,\n",
    "            dff_factor        = 2,\n",
    "            stride            = 4,\n",
    "            skip_mode          = \"conv\")\n",
    "outs = de(out, skips)"
   ]
  },
  {
   "cell_type": "code",
   "execution_count": 6,
   "id": "2d0deb42-e77d-4843-aa5f-6a4fff9551a4",
   "metadata": {},
   "outputs": [
    {
     "data": {
      "text/plain": [
       "torch.Size([1, 440, 128])"
      ]
     },
     "execution_count": 6,
     "metadata": {},
     "output_type": "execute_result"
    }
   ],
   "source": [
    "outs.shape"
   ]
  },
  {
   "cell_type": "markdown",
   "id": "f6d9b5b0-a3b1-479d-acfb-1a1e38be0997",
   "metadata": {},
   "source": [
    "# Down Mode Test"
   ]
  },
  {
   "cell_type": "code",
   "execution_count": 7,
   "id": "9198eb39-47bf-4497-b461-c0a9cfc51f57",
   "metadata": {},
   "outputs": [
    {
     "name": "stdout",
     "output_type": "stream",
     "text": [
      "ModuleList(\n",
      "  (0): Conv1dLayer(\n",
      "    (conv): Conv1d(64, 768, kernel_size=(1,), stride=(1,), bias=False)\n",
      "  )\n",
      "  (1): Conv1dLayer(\n",
      "    (conv): Conv1d(128, 768, kernel_size=(1,), stride=(1,), bias=False)\n",
      "  )\n",
      "  (2): Conv1dLayer(\n",
      "    (conv): Conv1d(256, 768, kernel_size=(1,), stride=(1,), bias=False)\n",
      "  )\n",
      "  (3): Conv1dLayer(\n",
      "    (conv): Conv1d(512, 768, kernel_size=(1,), stride=(1,), bias=False)\n",
      "  )\n",
      "  (4): Conv1dLayer(\n",
      "    (conv): Conv1d(1024, 768, kernel_size=(1,), stride=(1,), bias=False)\n",
      "  )\n",
      ")\n",
      "LinearLayer(\n",
      "  (linear): Linear(in_features=214, out_features=1, bias=False)\n",
      ")\n",
      "inputs :  torch.Size([1, 440, 128])\n",
      "After In Layer : torch.Size([1, 64, 128])\n",
      "BLOCK 0 after block0 : torch.Size([1, 64, 128])\n",
      "BLOCK 0 after block1 : torch.Size([1, 64, 128])\n",
      "BLOCK 0 after attn : torch.Size([1, 64, 128])\n",
      "BLOCK 0 after down block : torch.Size([1, 64, 64])\n",
      "BLOCK 1 after block0 : torch.Size([1, 128, 64])\n",
      "BLOCK 1 after block1 : torch.Size([1, 128, 64])\n",
      "BLOCK 1 after attn : torch.Size([1, 128, 64])\n",
      "BLOCK 1 after down block : torch.Size([1, 128, 16])\n",
      "BLOCK 2 after block0 : torch.Size([1, 256, 16])\n",
      "BLOCK 2 after block1 : torch.Size([1, 256, 16])\n",
      "BLOCK 2 after attn : torch.Size([1, 256, 16])\n",
      "BLOCK 2 after down block : torch.Size([1, 256, 4])\n",
      "BLOCK 3 after block0 : torch.Size([1, 512, 4])\n",
      "BLOCK 3 after block1 : torch.Size([1, 512, 4])\n",
      "BLOCK 3 after attn : torch.Size([1, 512, 4])\n",
      "BLOCK 3 after down block : torch.Size([1, 512, 1])\n",
      "BLOCK 4 after block0 : torch.Size([1, 1024, 1])\n",
      "BLOCK 4 after block1 : torch.Size([1, 1024, 1])\n",
      "BLOCK 4 after attn : torch.Size([1, 1024, 1])\n",
      "BLOCK 4 after down block : torch.Size([1, 1024, 1])\n",
      "After Out Layer : torch.Size([1, 768, 1])\n"
     ]
    }
   ],
   "source": [
    "test =torch.randn(1, 440, 128)\n",
    "en = Encoder(in_seq              = 440,\n",
    "            in_channels             = 128,\n",
    "            out_seq             = 768,\n",
    "            dims               = [64, 128, 256, 512, 1024],\n",
    "            shortcut           = True,\n",
    "            dropout           = 0.5,\n",
    "            groups              = 32,\n",
    "            layer_mode          = 'conv',\n",
    "            block_mode          = 'res',\n",
    "            down_mode           = 'max',\n",
    "            pos_mode           = 'sinusoidal',\n",
    "            n_layer           = 2,\n",
    "            n_head              = 64,\n",
    "            dff_factor        = 2,\n",
    "            stride            = 4,\n",
    "            skip_mode          = \"down\")\n",
    "\n",
    "out, skips = en(test)"
   ]
  },
  {
   "cell_type": "code",
   "execution_count": 8,
   "id": "369dbf72-2d0c-454a-aa16-b3f4b0d8c7e5",
   "metadata": {
    "scrolled": true
   },
   "outputs": [
    {
     "data": {
      "text/plain": [
       "torch.Size([1, 768, 1])"
      ]
     },
     "execution_count": 8,
     "metadata": {},
     "output_type": "execute_result"
    }
   ],
   "source": [
    "out.shape"
   ]
  },
  {
   "cell_type": "code",
   "execution_count": 9,
   "id": "87ecbac7-2fae-4cfb-900a-c97fb29257fa",
   "metadata": {},
   "outputs": [
    {
     "name": "stdout",
     "output_type": "stream",
     "text": [
      "inputs :  torch.Size([1, 768, 1])\n",
      "After In Layer : torch.Size([1, 1024, 1])\n",
      "BLOCK 0 after concat : torch.Size([1, 1024, 1])\n",
      "BLOCK 0 after block0 : torch.Size([1, 1024, 1])\n",
      "BLOCK 0 after block1 : torch.Size([1, 1024, 1])\n",
      "BLOCK 0 after attn : torch.Size([1, 1024, 1])\n",
      "BLOCK 0 after up block : torch.Size([1, 1024, 4])\n",
      "BLOCK 1 after concat : torch.Size([1, 1024, 4])\n",
      "BLOCK 1 after block0 : torch.Size([1, 512, 4])\n",
      "BLOCK 1 after block1 : torch.Size([1, 512, 4])\n",
      "BLOCK 1 after attn : torch.Size([1, 512, 4])\n",
      "BLOCK 1 after up block : torch.Size([1, 512, 16])\n",
      "BLOCK 2 after concat : torch.Size([1, 512, 16])\n",
      "BLOCK 2 after block0 : torch.Size([1, 256, 16])\n",
      "BLOCK 2 after block1 : torch.Size([1, 256, 16])\n",
      "BLOCK 2 after attn : torch.Size([1, 256, 16])\n",
      "BLOCK 2 after up block : torch.Size([1, 256, 64])\n",
      "BLOCK 3 after concat : torch.Size([1, 256, 64])\n",
      "BLOCK 3 after block0 : torch.Size([1, 128, 64])\n",
      "BLOCK 3 after block1 : torch.Size([1, 128, 64])\n",
      "BLOCK 3 after attn : torch.Size([1, 128, 64])\n",
      "BLOCK 3 after up block : torch.Size([1, 128, 128])\n",
      "BLOCK 4 after concat : torch.Size([1, 128, 128])\n",
      "BLOCK 4 after block0 : torch.Size([1, 64, 128])\n",
      "BLOCK 4 after block1 : torch.Size([1, 64, 128])\n",
      "BLOCK 4 after attn : torch.Size([1, 64, 128])\n",
      "BLOCK 4 after up block : torch.Size([1, 64, 128])\n",
      "After Out Layer : torch.Size([1, 440, 128])\n"
     ]
    }
   ],
   "source": [
    "de = Decoder(in_seq              = 768,\n",
    "            in_channels          = 128,\n",
    "            out_seq             = 440,\n",
    "            dims               = [64, 128, 256, 512, 1024],\n",
    "            shortcut           = True,\n",
    "            dropout           = 0.5,\n",
    "            groups              = 32,\n",
    "            layer_mode          = 'conv',\n",
    "            block_mode          = 'res',\n",
    "            up_mode           = 'trans',\n",
    "            pos_mode           = 'trunc',\n",
    "            n_layer           = 2,\n",
    "            n_head              = 64,\n",
    "            dff_factor        = 2,\n",
    "            stride            = 4,\n",
    "            skip_mode          = \"down\")\n",
    "outs = de(out)"
   ]
  },
  {
   "cell_type": "markdown",
   "id": "6847f337-7c03-485d-aeb8-52dc111d8f88",
   "metadata": {},
   "source": [
    "# None Mode Test"
   ]
  },
  {
   "cell_type": "code",
   "execution_count": 10,
   "id": "7606621f-2ba6-47df-81bd-2c729838ea04",
   "metadata": {},
   "outputs": [
    {
     "name": "stdout",
     "output_type": "stream",
     "text": [
      "None\n",
      "None\n",
      "inputs :  torch.Size([1, 440, 128])\n",
      "After In Layer : torch.Size([1, 64, 128])\n",
      "BLOCK 0 after block0 : torch.Size([1, 64, 128])\n",
      "BLOCK 0 after block1 : torch.Size([1, 64, 128])\n",
      "BLOCK 0 after attn : torch.Size([1, 64, 128])\n",
      "BLOCK 0 after down block : torch.Size([1, 64, 64])\n",
      "BLOCK 1 after block0 : torch.Size([1, 128, 64])\n",
      "BLOCK 1 after block1 : torch.Size([1, 128, 64])\n",
      "BLOCK 1 after attn : torch.Size([1, 128, 64])\n",
      "BLOCK 1 after down block : torch.Size([1, 128, 16])\n",
      "BLOCK 2 after block0 : torch.Size([1, 256, 16])\n",
      "BLOCK 2 after block1 : torch.Size([1, 256, 16])\n",
      "BLOCK 2 after attn : torch.Size([1, 256, 16])\n",
      "BLOCK 2 after down block : torch.Size([1, 256, 4])\n",
      "BLOCK 3 after block0 : torch.Size([1, 512, 4])\n",
      "BLOCK 3 after block1 : torch.Size([1, 512, 4])\n",
      "BLOCK 3 after attn : torch.Size([1, 512, 4])\n",
      "BLOCK 3 after down block : torch.Size([1, 512, 1])\n",
      "BLOCK 4 after block0 : torch.Size([1, 1024, 1])\n",
      "BLOCK 4 after block1 : torch.Size([1, 1024, 1])\n",
      "BLOCK 4 after attn : torch.Size([1, 1024, 1])\n",
      "BLOCK 4 after down block : torch.Size([1, 1024, 1])\n",
      "After Out Layer : torch.Size([1, 768, 1])\n"
     ]
    }
   ],
   "source": [
    "test =torch.randn(1, 440, 128)\n",
    "en = Encoder(in_seq              = 440,\n",
    "            in_channels             = 128,\n",
    "            out_seq             = 768,\n",
    "            dims               = [64, 128, 256, 512, 1024],\n",
    "            shortcut           = True,\n",
    "            dropout           = 0.5,\n",
    "            groups              = 32,\n",
    "            layer_mode          = 'conv',\n",
    "            block_mode          = 'res',\n",
    "            down_mode           = 'max',\n",
    "            pos_mode           = 'trunc',\n",
    "            n_layer           = 2,\n",
    "            n_head              = 64,\n",
    "            dff_factor        = 2,\n",
    "            stride            = 4,\n",
    "            skip_mode          = None)\n",
    "\n",
    "out, skips = en(test)"
   ]
  },
  {
   "cell_type": "code",
   "execution_count": 11,
   "id": "f5ed7b7a-8232-4215-bff7-c71b2eea44fa",
   "metadata": {
    "scrolled": true
   },
   "outputs": [
    {
     "data": {
      "text/plain": [
       "torch.Size([1, 768, 1])"
      ]
     },
     "execution_count": 11,
     "metadata": {},
     "output_type": "execute_result"
    }
   ],
   "source": [
    "out.shape"
   ]
  },
  {
   "cell_type": "code",
   "execution_count": 12,
   "id": "4e64a405-58a2-4d6f-93ae-9f9dcb6ce7d6",
   "metadata": {},
   "outputs": [
    {
     "data": {
      "text/plain": [
       "(0,)"
      ]
     },
     "execution_count": 12,
     "metadata": {},
     "output_type": "execute_result"
    }
   ],
   "source": [
    "np.shape(skips)"
   ]
  },
  {
   "cell_type": "code",
   "execution_count": null,
   "id": "0b10bd19",
   "metadata": {},
   "outputs": [],
   "source": []
  },
  {
   "cell_type": "code",
   "execution_count": 13,
   "id": "ee86eeb8-f279-44e6-ba7d-c620ecc93022",
   "metadata": {},
   "outputs": [
    {
     "name": "stdout",
     "output_type": "stream",
     "text": [
      "inputs :  torch.Size([1, 768, 1])\n",
      "After In Layer : torch.Size([1, 1024, 1])\n",
      "BLOCK 0 after concat : torch.Size([1, 1024, 1])\n",
      "BLOCK 0 after block0 : torch.Size([1, 1024, 1])\n",
      "BLOCK 0 after block1 : torch.Size([1, 1024, 1])\n",
      "BLOCK 0 after attn : torch.Size([1, 1024, 1])\n",
      "BLOCK 0 after up block : torch.Size([1, 1024, 4])\n",
      "BLOCK 1 after concat : torch.Size([1, 1024, 4])\n",
      "BLOCK 1 after block0 : torch.Size([1, 512, 4])\n",
      "BLOCK 1 after block1 : torch.Size([1, 512, 4])\n",
      "BLOCK 1 after attn : torch.Size([1, 512, 4])\n",
      "BLOCK 1 after up block : torch.Size([1, 512, 16])\n",
      "BLOCK 2 after concat : torch.Size([1, 512, 16])\n",
      "BLOCK 2 after block0 : torch.Size([1, 256, 16])\n",
      "BLOCK 2 after block1 : torch.Size([1, 256, 16])\n",
      "BLOCK 2 after attn : torch.Size([1, 256, 16])\n",
      "BLOCK 2 after up block : torch.Size([1, 256, 64])\n",
      "BLOCK 3 after concat : torch.Size([1, 256, 64])\n",
      "BLOCK 3 after block0 : torch.Size([1, 128, 64])\n",
      "BLOCK 3 after block1 : torch.Size([1, 128, 64])\n",
      "BLOCK 3 after attn : torch.Size([1, 128, 64])\n",
      "BLOCK 3 after up block : torch.Size([1, 128, 128])\n",
      "BLOCK 4 after concat : torch.Size([1, 128, 128])\n",
      "BLOCK 4 after block0 : torch.Size([1, 64, 128])\n",
      "BLOCK 4 after block1 : torch.Size([1, 64, 128])\n",
      "BLOCK 4 after attn : torch.Size([1, 64, 128])\n",
      "BLOCK 4 after up block : torch.Size([1, 64, 128])\n",
      "After Out Layer : torch.Size([1, 440, 128])\n"
     ]
    }
   ],
   "source": [
    "de = Decoder(in_seq              = 768,\n",
    "            in_channels          = 1,\n",
    "            out_seq             = 440,\n",
    "            dims               = [64, 128, 256, 512, 1024],\n",
    "            shortcut           = True,\n",
    "            dropout           = 0.5,\n",
    "            groups              = 32,\n",
    "            layer_mode          = 'conv',\n",
    "            block_mode          = 'res',\n",
    "            up_mode           = 'trans',\n",
    "            pos_mode           = 'sinusoidal',\n",
    "            n_layer           = 2,\n",
    "            n_head              = 64,\n",
    "            dff_factor        = 2,\n",
    "            stride            = 4,\n",
    "            skip_mode          = None)\n",
    "outs = de(out)"
   ]
  }
 ],
 "metadata": {
  "kernelspec": {
   "display_name": "Python 3 (ipykernel)",
   "language": "python",
   "name": "python3"
  },
  "language_info": {
   "codemirror_mode": {
    "name": "ipython",
    "version": 3
   },
   "file_extension": ".py",
   "mimetype": "text/x-python",
   "name": "python",
   "nbconvert_exporter": "python",
   "pygments_lexer": "ipython3",
   "version": "3.9.18"
  }
 },
 "nbformat": 4,
 "nbformat_minor": 5
}
